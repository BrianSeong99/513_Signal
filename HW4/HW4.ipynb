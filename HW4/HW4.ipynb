{
 "cells": [
  {
   "attachments": {},
   "cell_type": "markdown",
   "metadata": {},
   "source": [
    "# HW4\n",
    "\n",
    "In this assignment, you will implement object detection using YOLOv3 (You Only Look Once version 3) in Python. You will use the Darknet framework and pre-trained weights for YOLOv3, which can be found here: https://pjreddie.com/darknet/yolo/Links to an external site.\n",
    "\n",
    "Your task is to write a Python script that loads an image, runs it through the YOLOv3 model, and displays the image with bounding boxes around detected objects. You can use any image of your choice for this task.\n",
    "\n",
    "Here are the steps you should follow:\n",
    "\n",
    "Install the necessary packages: numpy, opencv-python, and darknet.\n",
    "\n",
    "Download the pre-trained weights for YOLOv3 from the link above and place them in a directory called \"weights\"."
   ]
  },
  {
   "cell_type": "code",
   "execution_count": null,
   "metadata": {
    "vscode": {
     "languageId": "shellscript"
    }
   },
   "outputs": [],
   "source": [
    "# I tried to install darknetpy, its been impossible for my intelbased mac machine, not sure why, \n",
    "# I even tried on ubuntu docker container as below and it wont go through, therefore I will just use the commandline interaction using python.\n",
    "\n",
    "# run in commandline\n",
    "docker run --name hw4 -it -v $(pwd):/home ubuntu bash  \n",
    "\n",
    "# inside docker container\n",
    "apt update\n",
    "apt upgrade\n",
    "apt install curl\n",
    "curl https://sh.rustup.rs -sSf | sh\n",
    "source \"$HOME/.cargo/env\"\n",
    "rustup default nightly\n",
    "apt install python3\n",
    "apt install python3-pip\n",
    "pip install darknetpy\n",
    "\n",
    "# the above doesnt work, so try this instead\n",
    "git clone https://github.com/pjreddie/darknet.git\n",
    "cd darknet\n",
    "make\n",
    "\n",
    "# install opencv from source\n",
    "git clone https://github.com/opencv/opencv.git\n",
    "mkdir build_opencv\n",
    "cd build_opencv\n",
    "cmake -DCMAKE_BUILD_TYPE=Release -DBUILD_EXAMPLES=ON ../opencv\n",
    "make -j7\n",
    "\n",
    "# install opencv using brew\n",
    "brew install opencv\n",
    "\n",
    "# install opencv using pip (if you use darknetpy then you should install this, else this is not needed)\n",
    "pip install opencv-python"
   ]
  },
  {
   "cell_type": "code",
   "execution_count": 20,
   "metadata": {},
   "outputs": [],
   "source": [
    "import os\n",
    "\n",
    "weight_path = \"./yolov3.weights\"\n",
    "def rundarknet(image_path):\n",
    "    command = \"./darknet/darknet imtest \" + image_path + \" \" + weight_path\n",
    "    response = os.system(command)\n",
    "    return response"
   ]
  },
  {
   "cell_type": "code",
   "execution_count": 16,
   "metadata": {},
   "outputs": [],
   "source": [
    "# Write a Python function called \"detect_objects\" that takes an image file path as input and returns the detected objects as a list of tuples, \n",
    "# where each tuple contains the object class and its bounding box coordinates (x, y, w, h).\n",
    "# You can use the darknet.load_image function to load the image and the darknet.detect function to detect objects.\n",
    "def detect_objects(path):\n",
    "    rundarknet(path)"
   ]
  },
  {
   "cell_type": "code",
   "execution_count": null,
   "metadata": {},
   "outputs": [],
   "source": [
    "# Write a Python function called \"draw_boxes\" that takes an image file path and \n",
    "# a list of detected objects as input and draws bounding boxes around the objects in the image using OpenCV. \n",
    "# You can use the cv2.rectangle function to draw rectangles.\n",
    "def draw_boxes(path, detected_objs):\n",
    "    pass"
   ]
  },
  {
   "cell_type": "code",
   "execution_count": 21,
   "metadata": {},
   "outputs": [
    {
     "name": "stdout",
     "output_type": "stream",
     "text": [
      "L2 Norm: 602.476257\n",
      "None\n"
     ]
    },
    {
     "name": "stderr",
     "output_type": "stream",
     "text": [
      "Not compiled with OpenCV, saving to Original.png instead\n",
      "Not compiled with OpenCV, saving to Gray.png instead\n",
      "Not compiled with OpenCV, saving to C1.png instead\n",
      "Not compiled with OpenCV, saving to C2.png instead\n",
      "Not compiled with OpenCV, saving to C3.png instead\n",
      "Not compiled with OpenCV, saving to C4.png instead\n"
     ]
    }
   ],
   "source": [
    "# Test your functions on an image of your choice and display the resulting image with bounding boxes around detected objects.\n",
    "image1 = \"./img/1.jpeg\"\n",
    "print(detect_objects(image1))"
   ]
  }
 ],
 "metadata": {
  "kernelspec": {
   "display_name": "GIX",
   "language": "python",
   "name": "python3"
  },
  "language_info": {
   "codemirror_mode": {
    "name": "ipython",
    "version": 3
   },
   "file_extension": ".py",
   "mimetype": "text/x-python",
   "name": "python",
   "nbconvert_exporter": "python",
   "pygments_lexer": "ipython3",
   "version": "3.7.13"
  },
  "orig_nbformat": 4,
  "vscode": {
   "interpreter": {
    "hash": "72c89bfd059e2267712ada51c88c396e1070a0d0c685545f7a398da337d403d6"
   }
  }
 },
 "nbformat": 4,
 "nbformat_minor": 2
}
